{
  "nbformat": 4,
  "nbformat_minor": 0,
  "metadata": {
    "colab": {
      "name": "1107736_1dconv_reg.ipynb",
      "provenance": [],
      "collapsed_sections": [],
      "toc_visible": true
    },
    "kernelspec": {
      "name": "python3",
      "display_name": "Python 3"
    },
    "accelerator": "GPU"
  },
  "cells": [
    {
      "cell_type": "markdown",
      "metadata": {
        "id": "QZ0SB2fFsFo_",
        "colab_type": "text"
      },
      "source": [
        "Exploring The Data\n"
      ]
    },
    {
      "cell_type": "code",
      "metadata": {
        "id": "LOP2cPb4sQh8",
        "colab_type": "code",
        "outputId": "7e8a424e-dbcf-42ca-f499-a5d4d59cef3d",
        "colab": {
          "base_uri": "https://localhost:8080/",
          "height": 141
        }
      },
      "source": [
        "import pandas as pd\n",
        "from sklearn.model_selection import train_test_split\n",
        "import numpy as np\n",
        "import nltk\n",
        "import matplotlib.pyplot as plt; plt.rcdefaults()\n",
        "import numpy as np\n",
        "import matplotlib.pyplot as plt\n",
        "import string\n",
        "nltk.download('punkt')\n",
        "nltk.download('stopwords')\n",
        "nltk.download('wordnet')\n"
      ],
      "execution_count": 73,
      "outputs": [
        {
          "output_type": "stream",
          "text": [
            "[nltk_data] Downloading package punkt to /root/nltk_data...\n",
            "[nltk_data]   Package punkt is already up-to-date!\n",
            "[nltk_data] Downloading package stopwords to /root/nltk_data...\n",
            "[nltk_data]   Package stopwords is already up-to-date!\n",
            "[nltk_data] Downloading package wordnet to /root/nltk_data...\n",
            "[nltk_data]   Package wordnet is already up-to-date!\n"
          ],
          "name": "stdout"
        },
        {
          "output_type": "execute_result",
          "data": {
            "text/plain": [
              "True"
            ]
          },
          "metadata": {
            "tags": []
          },
          "execution_count": 73
        }
      ]
    },
    {
      "cell_type": "markdown",
      "metadata": {
        "id": "U2v58zkxukjt",
        "colab_type": "text"
      },
      "source": [
        "Mount Drive"
      ]
    },
    {
      "cell_type": "markdown",
      "metadata": {
        "id": "zNNfqT8pwYtH",
        "colab_type": "text"
      },
      "source": [
        "Reading Dataset\n"
      ]
    },
    {
      "cell_type": "code",
      "metadata": {
        "id": "bFAPjTy-tksm",
        "colab_type": "code",
        "outputId": "94827d1c-bff4-42c4-bcf0-61587cd6e61d",
        "colab": {
          "base_uri": "https://localhost:8080/",
          "height": 197
        }
      },
      "source": [
        "dataset =  pd.read_csv('https://raw.githubusercontent.com/cacoderquan/Sentiment-Analysis-on-the-Rotten-Tomatoes-movie-review-dataset/master/train.tsv', sep='\\t')\n",
        "dataset = dataset.dropna()\n",
        "dataset.head()"
      ],
      "execution_count": 74,
      "outputs": [
        {
          "output_type": "execute_result",
          "data": {
            "text/html": [
              "<div>\n",
              "<style scoped>\n",
              "    .dataframe tbody tr th:only-of-type {\n",
              "        vertical-align: middle;\n",
              "    }\n",
              "\n",
              "    .dataframe tbody tr th {\n",
              "        vertical-align: top;\n",
              "    }\n",
              "\n",
              "    .dataframe thead th {\n",
              "        text-align: right;\n",
              "    }\n",
              "</style>\n",
              "<table border=\"1\" class=\"dataframe\">\n",
              "  <thead>\n",
              "    <tr style=\"text-align: right;\">\n",
              "      <th></th>\n",
              "      <th>PhraseId</th>\n",
              "      <th>SentenceId</th>\n",
              "      <th>Phrase</th>\n",
              "      <th>Sentiment</th>\n",
              "    </tr>\n",
              "  </thead>\n",
              "  <tbody>\n",
              "    <tr>\n",
              "      <th>0</th>\n",
              "      <td>1</td>\n",
              "      <td>1</td>\n",
              "      <td>A series of escapades demonstrating the adage ...</td>\n",
              "      <td>1</td>\n",
              "    </tr>\n",
              "    <tr>\n",
              "      <th>1</th>\n",
              "      <td>2</td>\n",
              "      <td>1</td>\n",
              "      <td>A series of escapades demonstrating the adage ...</td>\n",
              "      <td>2</td>\n",
              "    </tr>\n",
              "    <tr>\n",
              "      <th>2</th>\n",
              "      <td>3</td>\n",
              "      <td>1</td>\n",
              "      <td>A series</td>\n",
              "      <td>2</td>\n",
              "    </tr>\n",
              "    <tr>\n",
              "      <th>3</th>\n",
              "      <td>4</td>\n",
              "      <td>1</td>\n",
              "      <td>A</td>\n",
              "      <td>2</td>\n",
              "    </tr>\n",
              "    <tr>\n",
              "      <th>4</th>\n",
              "      <td>5</td>\n",
              "      <td>1</td>\n",
              "      <td>series</td>\n",
              "      <td>2</td>\n",
              "    </tr>\n",
              "  </tbody>\n",
              "</table>\n",
              "</div>"
            ],
            "text/plain": [
              "   PhraseId  ...  Sentiment\n",
              "0         1  ...          1\n",
              "1         2  ...          2\n",
              "2         3  ...          2\n",
              "3         4  ...          2\n",
              "4         5  ...          2\n",
              "\n",
              "[5 rows x 4 columns]"
            ]
          },
          "metadata": {
            "tags": []
          },
          "execution_count": 74
        }
      ]
    },
    {
      "cell_type": "code",
      "metadata": {
        "id": "DBnd7GiNvr7X",
        "colab_type": "code",
        "outputId": "b9eb84d4-ee0f-4695-b829-243abfea0d93",
        "colab": {
          "base_uri": "https://localhost:8080/",
          "height": 34
        }
      },
      "source": [
        "dataset.shape"
      ],
      "execution_count": 75,
      "outputs": [
        {
          "output_type": "execute_result",
          "data": {
            "text/plain": [
              "(156060, 4)"
            ]
          },
          "metadata": {
            "tags": []
          },
          "execution_count": 75
        }
      ]
    },
    {
      "cell_type": "code",
      "metadata": {
        "id": "gK36cXc2vw4A",
        "colab_type": "code",
        "outputId": "3354a042-127d-4b4a-b4c2-43010c3eccce",
        "colab": {
          "base_uri": "https://localhost:8080/",
          "height": 597
        }
      },
      "source": [
        "\n",
        "d = dict(dataset.Sentiment.value_counts())\n",
        "fields = ('0-negative ', ' 1-somewhat negative ', ' 2-neutral ', ' 3-somewhat positive ', ' 4-positive ')\n",
        "y_pos = np.arange(len(fields))\n",
        "performance = [d[0],d[1],d[2],d[3],d[4]]\n",
        "plt.bar(y_pos, performance, align='center', alpha=1)\n",
        "plt.xticks(y_pos, fields, rotation='vertical')\n",
        "plt.ylabel('Number of Entries')\n",
        "plt.title('Rotten Tomatoes Review Categories')\n",
        "plt.show()\n",
        "\n"
      ],
      "execution_count": 76,
      "outputs": [
        {
          "output_type": "display_data",
          "data": {
            "image/png": "[encoded data removed]",
            "text/plain": [
              "<Figure size 640x480 with 1 Axes>"
            ]
          },
          "metadata": {
            "tags": []
          }
        }
      ]
    },
    {
      "cell_type": "markdown",
      "metadata": {
        "id": "XVUp6R5OxGFK",
        "colab_type": "text"
      },
      "source": [
        "Adjustable Parameters"
      ]
    },
    {
      "cell_type": "code",
      "metadata": {
        "id": "pLQKjsJ5Lm4i",
        "colab_type": "code",
        "colab": {}
      },
      "source": [
        "import re\n",
        "import nltk \n",
        "from nltk.stem import PorterStemmer\n",
        "ps = PorterStemmer()\n",
        "wn = nltk.WordNetLemmatizer()\n",
        "def remove_punctuation(text):\n",
        "  txt_nonpunct = \"\".join([a for a in text if a not in string.punctuation])\n",
        "  return txt_nonpunct \n",
        "def tokenize(text):\n",
        "  tokens = re.split('\\W+', text)\n",
        "  return tokens \n",
        "def remove_stopwords(txt_tokenized):\n",
        "  txt_clean = [word for word in txt_tokenized if word not in stopwords]\n",
        "  return txt_clean\n",
        "def stemming(tokenized_text):\n",
        "  text = [ps.stem(word) for word in tokenized_text]\n",
        "  return text\n",
        "def lemmatization(token_txt):\n",
        "  text = [wn.lemmatize(word) for word in token_txt]\n",
        "  return text\n"
      ],
      "execution_count": 0,
      "outputs": []
    },
    {
      "cell_type": "markdown",
      "metadata": {
        "id": "HKtODFJPVEPf",
        "colab_type": "text"
      },
      "source": [
        "Data Cleaning | Punctuations"
      ]
    },
    {
      "cell_type": "code",
      "metadata": {
        "id": "XN4KMFgCDAXs",
        "colab_type": "code",
        "colab": {}
      },
      "source": [
        "stopwords = nltk.corpus.stopwords.words('english')\n",
        "dataset['Phrase'] = dataset['Phrase'].apply(lambda x: remove_punctuation(x)) \n",
        "dataset['Phrase'] = dataset['Phrase'].apply(lambda x: tokenize(x.lower()))\n",
        "dataset['Phrase'] = dataset['Phrase'].apply(lambda x: remove_stopwords(x))\n",
        "dataset['Phrase'] = dataset['Phrase'].apply(lambda x: stemming(x))\n",
        "dataset['Phrase'] = dataset['Phrase'].apply(lambda x: lemmatization(x))"
      ],
      "execution_count": 0,
      "outputs": []
    },
    {
      "cell_type": "markdown",
      "metadata": {
        "id": "-J_1XQfsFf9G",
        "colab_type": "text"
      },
      "source": [
        "Data Cleaning | Tokenization"
      ]
    },
    {
      "cell_type": "code",
      "metadata": {
        "id": "XbNHQyTSWuiv",
        "colab_type": "code",
        "outputId": "66fa3967-4ec1-4e85-a186-9bfdafefbe2f",
        "colab": {
          "base_uri": "https://localhost:8080/",
          "height": 197
        }
      },
      "source": [
        "dataset.head()"
      ],
      "execution_count": 79,
      "outputs": [
        {
          "output_type": "execute_result",
          "data": {
            "text/html": [
              "<div>\n",
              "<style scoped>\n",
              "    .dataframe tbody tr th:only-of-type {\n",
              "        vertical-align: middle;\n",
              "    }\n",
              "\n",
              "    .dataframe tbody tr th {\n",
              "        vertical-align: top;\n",
              "    }\n",
              "\n",
              "    .dataframe thead th {\n",
              "        text-align: right;\n",
              "    }\n",
              "</style>\n",
              "<table border=\"1\" class=\"dataframe\">\n",
              "  <thead>\n",
              "    <tr style=\"text-align: right;\">\n",
              "      <th></th>\n",
              "      <th>PhraseId</th>\n",
              "      <th>SentenceId</th>\n",
              "      <th>Phrase</th>\n",
              "      <th>Sentiment</th>\n",
              "    </tr>\n",
              "  </thead>\n",
              "  <tbody>\n",
              "    <tr>\n",
              "      <th>0</th>\n",
              "      <td>1</td>\n",
              "      <td>1</td>\n",
              "      <td>[seri, escapad, demonstr, adag, good, goo, als...</td>\n",
              "      <td>1</td>\n",
              "    </tr>\n",
              "    <tr>\n",
              "      <th>1</th>\n",
              "      <td>2</td>\n",
              "      <td>1</td>\n",
              "      <td>[seri, escapad, demonstr, adag, good, goo]</td>\n",
              "      <td>2</td>\n",
              "    </tr>\n",
              "    <tr>\n",
              "      <th>2</th>\n",
              "      <td>3</td>\n",
              "      <td>1</td>\n",
              "      <td>[seri]</td>\n",
              "      <td>2</td>\n",
              "    </tr>\n",
              "    <tr>\n",
              "      <th>3</th>\n",
              "      <td>4</td>\n",
              "      <td>1</td>\n",
              "      <td>[]</td>\n",
              "      <td>2</td>\n",
              "    </tr>\n",
              "    <tr>\n",
              "      <th>4</th>\n",
              "      <td>5</td>\n",
              "      <td>1</td>\n",
              "      <td>[seri]</td>\n",
              "      <td>2</td>\n",
              "    </tr>\n",
              "  </tbody>\n",
              "</table>\n",
              "</div>"
            ],
            "text/plain": [
              "   PhraseId  ...  Sentiment\n",
              "0         1  ...          1\n",
              "1         2  ...          2\n",
              "2         3  ...          2\n",
              "3         4  ...          2\n",
              "4         5  ...          2\n",
              "\n",
              "[5 rows x 4 columns]"
            ]
          },
          "metadata": {
            "tags": []
          },
          "execution_count": 79
        }
      ]
    },
    {
      "cell_type": "markdown",
      "metadata": {
        "id": "LblhFFl7eyxd",
        "colab_type": "text"
      },
      "source": [
        "Splitting The Dataset"
      ]
    },
    {
      "cell_type": "code",
      "metadata": {
        "id": "XebxMLR5hBoO",
        "colab_type": "code",
        "outputId": "b5720cba-f503-45af-ff85-deb4e0d7ac21",
        "colab": {
          "base_uri": "https://localhost:8080/",
          "height": 197
        }
      },
      "source": [
        "\n",
        "X_train, X_test, Y_train, Y_test = train_test_split(dataset['Phrase'], dataset['Sentiment'], test_size=0.3, random_state=2003)\n",
        "documents = []\n",
        "X_train = np.array(X_train.values.tolist())\n",
        "Y_train = np.array(Y_train.values.tolist())\n",
        "for i in range(len(X_train)):\n",
        "  documents.append([list(X_train[i]), Y_train[i]]) \n",
        "\n",
        "X_test = np.array(X_test.values.tolist())\n",
        "Y_test = np.array(Y_test.values.tolist())\n",
        "for i in range(len(X_test)):\n",
        "  documents.append([list(X_test[i]), Y_test[i]]) \n",
        "dataset = pd.DataFrame(documents, columns=['text', 'sentiment']) \n",
        "dataset['join'] = dataset.text.apply(' '.join)\n",
        "dataset.head()"
      ],
      "execution_count": 80,
      "outputs": [
        {
          "output_type": "execute_result",
          "data": {
            "text/html": [
              "<div>\n",
              "<style scoped>\n",
              "    .dataframe tbody tr th:only-of-type {\n",
              "        vertical-align: middle;\n",
              "    }\n",
              "\n",
              "    .dataframe tbody tr th {\n",
              "        vertical-align: top;\n",
              "    }\n",
              "\n",
              "    .dataframe thead th {\n",
              "        text-align: right;\n",
              "    }\n",
              "</style>\n",
              "<table border=\"1\" class=\"dataframe\">\n",
              "  <thead>\n",
              "    <tr style=\"text-align: right;\">\n",
              "      <th></th>\n",
              "      <th>text</th>\n",
              "      <th>sentiment</th>\n",
              "      <th>join</th>\n",
              "    </tr>\n",
              "  </thead>\n",
              "  <tbody>\n",
              "    <tr>\n",
              "      <th>0</th>\n",
              "      <td>[age]</td>\n",
              "      <td>2</td>\n",
              "      <td>age</td>\n",
              "    </tr>\n",
              "    <tr>\n",
              "      <th>1</th>\n",
              "      <td>[gorgeou, epic]</td>\n",
              "      <td>4</td>\n",
              "      <td>gorgeou epic</td>\n",
              "    </tr>\n",
              "    <tr>\n",
              "      <th>2</th>\n",
              "      <td>[fan, grossout, comedi]</td>\n",
              "      <td>2</td>\n",
              "      <td>fan grossout comedi</td>\n",
              "    </tr>\n",
              "    <tr>\n",
              "      <th>3</th>\n",
              "      <td>[filmmak, ascend, liter, olympu, art, world]</td>\n",
              "      <td>4</td>\n",
              "      <td>filmmak ascend liter olympu art world</td>\n",
              "    </tr>\n",
              "    <tr>\n",
              "      <th>4</th>\n",
              "      <td>[twist, mysteri]</td>\n",
              "      <td>2</td>\n",
              "      <td>twist mysteri</td>\n",
              "    </tr>\n",
              "  </tbody>\n",
              "</table>\n",
              "</div>"
            ],
            "text/plain": [
              "                                           text  ...                                   join\n",
              "0                                         [age]  ...                                    age\n",
              "1                               [gorgeou, epic]  ...                           gorgeou epic\n",
              "2                       [fan, grossout, comedi]  ...                    fan grossout comedi\n",
              "3  [filmmak, ascend, liter, olympu, art, world]  ...  filmmak ascend liter olympu art world\n",
              "4                              [twist, mysteri]  ...                          twist mysteri\n",
              "\n",
              "[5 rows x 3 columns]"
            ]
          },
          "metadata": {
            "tags": []
          },
          "execution_count": 80
        }
      ]
    },
    {
      "cell_type": "code",
      "metadata": {
        "id": "XxPION4LRazd",
        "colab_type": "code",
        "colab": {}
      },
      "source": [
        "X_train, X_test, Y_train, Y_test = train_test_split(dataset['join'],  dataset['sentiment'], test_size=0.3, random_state=2003)"
      ],
      "execution_count": 0,
      "outputs": []
    },
    {
      "cell_type": "code",
      "metadata": {
        "id": "WgA0Y2-401nv",
        "colab_type": "code",
        "colab": {}
      },
      "source": [
        " from sklearn.feature_extraction.text import CountVectorizer\n",
        "vectorizer = CountVectorizer(max_features = 2500)\n",
        "X = vectorizer.fit_transform(dataset[\"join\"])\n",
        "Y = dataset['sentiment']\n",
        "X_train = vectorizer.transform(X_train).toarray()\n",
        "Y_train = Y_train \n",
        "X_test = vectorizer.transform(X_test).toarray()\n",
        "Y_test = Y_test"
      ],
      "execution_count": 0,
      "outputs": []
    },
    {
      "cell_type": "code",
      "metadata": {
        "id": "zFwYA1tWwnhC",
        "colab_type": "code",
        "colab": {}
      },
      "source": [
        "import keras\n",
        "from keras.datasets import mnist\n",
        "from keras.models import Sequential\n",
        "from keras.layers import Dense, Dropout, Flatten\n",
        "from keras.layers import Conv1D, MaxPooling1D\n",
        "from keras import backend as K\n",
        "import matplotlib.pyplot as plt\n",
        "import numpy"
      ],
      "execution_count": 0,
      "outputs": []
    },
    {
      "cell_type": "code",
      "metadata": {
        "id": "kGCqfGuqSaJq",
        "colab_type": "code",
        "colab": {}
      },
      "source": [
        "batch_size = 64\n",
        "num_classes = 5\n",
        "epochs = 20"
      ],
      "execution_count": 0,
      "outputs": []
    },
    {
      "cell_type": "markdown",
      "metadata": {
        "id": "1owiJVMm7Com",
        "colab_type": "text"
      },
      "source": [
        ""
      ]
    },
    {
      "cell_type": "code",
      "metadata": {
        "id": "XYgWOcu3S_U2",
        "colab_type": "code",
        "colab": {}
      },
      "source": [
        "Y_train = keras.utils.to_categorical(Y_train, num_classes)\n",
        "Y_test = keras.utils.to_categorical(Y_test, num_classes)"
      ],
      "execution_count": 0,
      "outputs": []
    },
    {
      "cell_type": "code",
      "metadata": {
        "id": "0hHjUmvCe_2l",
        "colab_type": "code",
        "outputId": "691cb957-596f-4ad0-9cad-66743d0a27ec",
        "colab": {
          "base_uri": "https://localhost:8080/",
          "height": 461
        }
      },
      "source": [
        " model = Sequential()\n",
        " model.add(Conv1D(filters=64, kernel_size=1,\n",
        "                  activation='relu',\n",
        "                  input_shape=(2500,1)))\n",
        " model.add(Conv1D(filters=64, kernel_size=1, activation='relu'))\n",
        " model.add(Conv1D(filters=32, kernel_size=1, activation='relu'))\n",
        " model.add(MaxPooling1D(pool_size=1))\n",
        " model.add(Dropout(rate = 0.1))\n",
        " model.add(Flatten())\n",
        " model.add(Dense(32, activation='relu'))\n",
        " model.add(Dense(num_classes, activation='softmax'))\n",
        "print(model.summary())"
      ],
      "execution_count": 86,
      "outputs": [
        {
          "output_type": "stream",
          "text": [
            "Model: \"sequential_4\"\n",
            "_________________________________________________________________\n",
            "Layer (type)                 Output Shape              Param #   \n",
            "=================================================================\n",
            "conv1d_10 (Conv1D)           (None, 2500, 64)          128       \n",
            "_________________________________________________________________\n",
            "conv1d_11 (Conv1D)           (None, 2500, 64)          4160      \n",
            "_________________________________________________________________\n",
            "conv1d_12 (Conv1D)           (None, 2500, 32)          2080      \n",
            "_________________________________________________________________\n",
            "max_pooling1d_4 (MaxPooling1 (None, 2500, 32)          0         \n",
            "_________________________________________________________________\n",
            "dropout_4 (Dropout)          (None, 2500, 32)          0         \n",
            "_________________________________________________________________\n",
            "flatten_4 (Flatten)          (None, 80000)             0         \n",
            "_________________________________________________________________\n",
            "dense_7 (Dense)              (None, 32)                2560032   \n",
            "_________________________________________________________________\n",
            "dense_8 (Dense)              (None, 5)                 165       \n",
            "=================================================================\n",
            "Total params: 2,566,565\n",
            "Trainable params: 2,566,565\n",
            "Non-trainable params: 0\n",
            "_________________________________________________________________\n",
            "None\n"
          ],
          "name": "stdout"
        }
      ]
    },
    {
      "cell_type": "code",
      "metadata": {
        "id": "Gz5dlS7lOw4S",
        "colab_type": "code",
        "colab": {}
      },
      "source": [
        "from keras import backend as K\n",
        "\n",
        "def recall_m(y_true, y_pred):\n",
        "    true_positives = K.sum(K.round(K.clip(y_true * y_pred, 0, 1)))\n",
        "    possible_positives = K.sum(K.round(K.clip(y_true, 0, 1)))\n",
        "    recall = true_positives / (possible_positives + K.epsilon())\n",
        "    return recall\n",
        "\n",
        "def precision_m(y_true, y_pred):\n",
        "    true_positives = K.sum(K.round(K.clip(y_true * y_pred, 0, 1)))\n",
        "    predicted_positives = K.sum(K.round(K.clip(y_pred, 0, 1)))\n",
        "    precision = true_positives / (predicted_positives + K.epsilon())\n",
        "    return precision\n",
        "\n",
        "def f1_m(y_true, y_pred):\n",
        "    precision = precision_m(y_true, y_pred)\n",
        "    recall = recall_m(y_true, y_pred)\n",
        "    return 2*((precision*recall)/(precision+recall+K.epsilon()))"
      ],
      "execution_count": 0,
      "outputs": []
    },
    {
      "cell_type": "code",
      "metadata": {
        "id": "re4qdVOifhJU",
        "colab_type": "code",
        "colab": {}
      },
      "source": [
        "model.compile(loss=keras.losses.categorical_crossentropy,\n",
        "              optimizer=keras.optimizers.Adadelta(),\n",
        "              metrics=['accuracy',f1_m,precision_m,recall_m])"
      ],
      "execution_count": 0,
      "outputs": []
    },
    {
      "cell_type": "code",
      "metadata": {
        "id": "vWnLccEfgKbH",
        "colab_type": "code",
        "colab": {}
      },
      "source": [
        "X_train = X_train.reshape(X_train.shape[0], X_train.shape[1], 1)\n",
        "X_test = X_test.reshape(X_test.shape[0], X_test.shape[1], 1)"
      ],
      "execution_count": 0,
      "outputs": []
    },
    {
      "cell_type": "code",
      "metadata": {
        "id": "RONgsKL5gkqQ",
        "colab_type": "code",
        "outputId": "2b81adbd-2db5-4155-d187-5306ff953b14",
        "colab": {
          "base_uri": "https://localhost:8080/",
          "height": 727
        }
      },
      "source": [
        "import time\n",
        "temp1 = time.time()\n",
        "history = model.fit(X_train, Y_train,\n",
        "          batch_size=64,\n",
        "          epochs=20)\n",
        "temp2 = time.time()\n"
      ],
      "execution_count": 90,
      "outputs": [
        {
          "output_type": "stream",
          "text": [
            "Epoch 1/20\n",
            "109242/109242 [==============================] - 38s 346us/step - loss: 1.0702 - acc: 0.5819 - f1_m: 0.5154 - precision_m: 0.6242 - recall_m: 0.4437\n",
            "Epoch 2/20\n",
            "109242/109242 [==============================] - 37s 339us/step - loss: 0.9558 - acc: 0.6259 - f1_m: 0.5930 - precision_m: 0.6802 - recall_m: 0.5271\n",
            "Epoch 3/20\n",
            "109242/109242 [==============================] - 37s 341us/step - loss: 0.9236 - acc: 0.6424 - f1_m: 0.6131 - precision_m: 0.6898 - recall_m: 0.5529\n",
            "Epoch 4/20\n",
            "109242/109242 [==============================] - 37s 339us/step - loss: 0.9014 - acc: 0.6529 - f1_m: 0.6267 - precision_m: 0.6968 - recall_m: 0.5705\n",
            "Epoch 5/20\n",
            "109242/109242 [==============================] - 37s 337us/step - loss: 0.8817 - acc: 0.6627 - f1_m: 0.6389 - precision_m: 0.7021 - recall_m: 0.5871\n",
            "Epoch 6/20\n",
            "109242/109242 [==============================] - 37s 339us/step - loss: 0.8667 - acc: 0.6685 - f1_m: 0.6479 - precision_m: 0.7051 - recall_m: 0.6001\n",
            "Epoch 7/20\n",
            "109242/109242 [==============================] - 37s 338us/step - loss: 0.8542 - acc: 0.6747 - f1_m: 0.6560 - precision_m: 0.7092 - recall_m: 0.6110\n",
            "Epoch 8/20\n",
            "109242/109242 [==============================] - 37s 337us/step - loss: 0.8432 - acc: 0.6780 - f1_m: 0.6618 - precision_m: 0.7111 - recall_m: 0.6196\n",
            "Epoch 9/20\n",
            "109242/109242 [==============================] - 37s 337us/step - loss: 0.8335 - acc: 0.6828 - f1_m: 0.6683 - precision_m: 0.7133 - recall_m: 0.6293\n",
            "Epoch 10/20\n",
            "109242/109242 [==============================] - 37s 336us/step - loss: 0.8259 - acc: 0.6858 - f1_m: 0.6723 - precision_m: 0.7157 - recall_m: 0.6345\n",
            "Epoch 11/20\n",
            "109242/109242 [==============================] - 37s 338us/step - loss: 0.8179 - acc: 0.6897 - f1_m: 0.6770 - precision_m: 0.7173 - recall_m: 0.6416\n",
            "Epoch 12/20\n",
            "109242/109242 [==============================] - 36s 333us/step - loss: 0.8122 - acc: 0.6923 - f1_m: 0.6804 - precision_m: 0.7196 - recall_m: 0.6458\n",
            "Epoch 13/20\n",
            "109242/109242 [==============================] - 37s 335us/step - loss: 0.8058 - acc: 0.6952 - f1_m: 0.6846 - precision_m: 0.7215 - recall_m: 0.6517\n",
            "Epoch 14/20\n",
            "109242/109242 [==============================] - 37s 335us/step - loss: 0.8008 - acc: 0.6975 - f1_m: 0.6867 - precision_m: 0.7232 - recall_m: 0.6542\n",
            "Epoch 15/20\n",
            "109242/109242 [==============================] - 37s 335us/step - loss: 0.7963 - acc: 0.6998 - f1_m: 0.6903 - precision_m: 0.7251 - recall_m: 0.6592\n",
            "Epoch 16/20\n",
            "109242/109242 [==============================] - 37s 334us/step - loss: 0.7907 - acc: 0.7016 - f1_m: 0.6920 - precision_m: 0.7254 - recall_m: 0.6621\n",
            "Epoch 17/20\n",
            "109242/109242 [==============================] - 37s 334us/step - loss: 0.7861 - acc: 0.7036 - f1_m: 0.6950 - precision_m: 0.7278 - recall_m: 0.6654\n",
            "Epoch 18/20\n",
            "109242/109242 [==============================] - 36s 334us/step - loss: 0.7828 - acc: 0.7048 - f1_m: 0.6958 - precision_m: 0.7276 - recall_m: 0.6671\n",
            "Epoch 19/20\n",
            "109242/109242 [==============================] - 37s 336us/step - loss: 0.7791 - acc: 0.7069 - f1_m: 0.6984 - precision_m: 0.7295 - recall_m: 0.6704\n",
            "Epoch 20/20\n",
            "109242/109242 [==============================] - 37s 336us/step - loss: 0.7754 - acc: 0.7088 - f1_m: 0.6999 - precision_m: 0.7302 - recall_m: 0.6724\n"
          ],
          "name": "stdout"
        }
      ]
    },
    {
      "cell_type": "code",
      "metadata": {
        "id": "pr7lyt4dTB2c",
        "colab_type": "code",
        "colab": {
          "base_uri": "https://localhost:8080/",
          "height": 34
        },
        "outputId": "10e94acb-3dbe-4f40-ca00-2cccd5f7708c"
      },
      "source": [
        "print(f\"Time taken to train the model {temp2-temp1} seconds\")"
      ],
      "execution_count": 91,
      "outputs": [
        {
          "output_type": "stream",
          "text": [
            "Time taken to train the model 736.8436119556427 seconds\n"
          ],
          "name": "stdout"
        }
      ]
    },
    {
      "cell_type": "code",
      "metadata": {
        "id": "clDfQeNkR5QR",
        "colab_type": "code",
        "colab": {}
      },
      "source": [
        "import keras \n",
        "model.save('1107736_1dconv_reg.h5')\n",
        "\n",
        "# Recreate the exact same model purely from the file\n"
      ],
      "execution_count": 0,
      "outputs": []
    },
    {
      "cell_type": "code",
      "metadata": {
        "id": "ni4gKtCTWGZA",
        "colab_type": "code",
        "colab": {}
      },
      "source": [
        "model = keras.models.load_model('1107736_1dconv_reg.h5', \n",
        "                   custom_objects = {'f1_m': f1_m,  'precision_m': precision_m, 'recall_m' : recall_m})"
      ],
      "execution_count": 0,
      "outputs": []
    },
    {
      "cell_type": "code",
      "metadata": {
        "id": "NJKYeF0NQPQ0",
        "colab_type": "code",
        "outputId": "9d109374-d907-4497-e0bc-d990bfa47383",
        "colab": {
          "base_uri": "https://localhost:8080/",
          "height": 34
        }
      },
      "source": [
        "loss, accuracy, f1_score, precision, recall= model.evaluate(X_test, Y_test, batch_size=batch_size, verbose=0)\n",
        "print(f'Test loss:{loss}, accuracy:{accuracy}, F-1 score:{f1_score}, Precision:{precision}, recall:{recall}')"
      ],
      "execution_count": 94,
      "outputs": [
        {
          "output_type": "stream",
          "text": [
            "Test loss:0.984531472721187, accuracy:0.6417189969797097, F-1 score:0.6308882864431394, Precision:0.6625389381202386, recall:0.6025460293202456\n"
          ],
          "name": "stdout"
        }
      ]
    },
    {
      "cell_type": "code",
      "metadata": {
        "id": "AMHUmYobXv9-",
        "colab_type": "code",
        "outputId": "2477782e-ec36-4dd2-f830-bb3801f6421c",
        "colab": {
          "base_uri": "https://localhost:8080/",
          "height": 490
        }
      },
      "source": [
        "print(history.history.keys())\n",
        "import matplotlib.pyplot as plt\n",
        "plt.plot(history.history['acc'])\n",
        "plt.plot(history.history['loss'])\n",
        "plt.plot(history.history['f1_m'])\n",
        "plt.plot(history.history['precision_m'])\n",
        "plt.plot(history.history['recall_m'])\n",
        "plt.title('Training model evalution')\n",
        "plt.ylabel('Values')\n",
        "plt.xlabel('epoch')\n",
        "plt.legend(['accuracy', 'loss','f1-score','precision','recall'], loc='lower right')\n",
        "plt.show()"
      ],
      "execution_count": 95,
      "outputs": [
        {
          "output_type": "stream",
          "text": [
            "dict_keys(['loss', 'acc', 'f1_m', 'precision_m', 'recall_m'])\n"
          ],
          "name": "stdout"
        },
        {
          "output_type": "display_data",
          "data": {
            "image/png": "[encoded data removed]",
            "text/plain": [
              "<Figure size 640x480 with 1 Axes>"
            ]
          },
          "metadata": {
            "tags": []
          }
        }
      ]
    }
  ]
}